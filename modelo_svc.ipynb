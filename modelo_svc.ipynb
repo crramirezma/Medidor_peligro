{
    "cells": [
        {
            "cell_type": "markdown",
            "source": [
                "# Sistema de predicción y prevención de accidentes de tránsito con enfoque en motociclistas"
            ],
            "metadata": {}
        },
        {
            "cell_type": "markdown",
            "source": [
                "## Entrenamiento del modelo SVC"
            ],
            "metadata": {}
        },
        {
            "cell_type": "code",
            "execution_count": 1,
            "source": [
                "# Zona de imports\n",
                "\n",
                "\n",
                "# Tratamiento de datos\n",
                "# ==============================================================================\n",
                "import pandas as pd\n",
                "import numpy as np\n",
                "\n",
                "# Gráficos\n",
                "# ==============================================================================\n",
                "import matplotlib.pyplot as plt\n",
                "from matplotlib import style\n",
                "#import seaborn as sns\n",
                "#from mlxtend.plotting import plot_decision_regions\n",
                "\n",
                "# Preprocesado y modelado\n",
                "# ==============================================================================\n",
                "from sklearn.svm import SVC\n",
                "from sklearn.model_selection import train_test_split\n",
                "from sklearn.model_selection import GridSearchCV\n",
                "from sklearn.metrics import accuracy_score\n",
                "from sklearn.metrics import classification_report, confusion_matrix"
            ],
            "outputs": [],
            "metadata": {}
        },
        {
            "cell_type": "markdown",
            "source": [
                "### Datos"
            ],
            "metadata": {}
        },
        {
            "cell_type": "markdown",
            "source": [
                "En primera instancia, se toman los datos procesados del archivo \"datos_procesados.csv\", el cual se encuentra adjunto a este documento, y se separan en datos dependientes e independientes(y,x)"
            ],
            "metadata": {}
        },
        {
            "cell_type": "code",
            "execution_count": 2,
            "source": [
                "datos_procesados=pd.read_csv(\"datos_procesados.csv\")\n",
                "\n",
                "\n",
                "#Cargando todos los datos(x para los datos independientes, y para los dependientes)\n",
                "# ========================================================\n",
                "x=datos_procesados.drop(\"evento\",axis=1)\n",
                "y=datos_procesados[\"evento\"]"
            ],
            "outputs": [],
            "metadata": {}
        },
        {
            "cell_type": "markdown",
            "source": [],
            "metadata": {}
        },
        {
            "cell_type": "markdown",
            "source": [
                "Como segundo paso, los datos de la variable \"datos_procesados\" se deben dividir en datos de entrenamiento y datos de prueba, los primeros, como su nombre lo dice, seran usados para entrenar al modelo, y los segundos serviran para probar el porcentaje de acertación del modelo ya entrenado.\n",
                "\n",
                "Para ello, se dividiran los datos en un porcentaje 20%/80%, el primero para las pruebas, y el segundo para el entrenamiento"
            ],
            "metadata": {}
        },
        {
            "cell_type": "code",
            "execution_count": 3,
            "source": [
                "#dividiendo los datos entre datos de entrenamiento y de prueba\n",
                "#===============================================================\n",
                "X_train, X_test, y_train, y_test=train_test_split(x,y,test_size=0.20)"
            ],
            "outputs": [],
            "metadata": {}
        },
        {
            "cell_type": "markdown",
            "source": [
                "Como ultimo paso, solo haria falta crear y entrenar al modelo"
            ],
            "metadata": {}
        },
        {
            "cell_type": "code",
            "execution_count": 4,
            "source": [
                "#               Funcion para entrenar el modelo svc\n",
                "#========================================================\n",
                "\n",
                "def svc_Creator(xtrain,ytrain)->SVC:\n",
                "    svc=SVC()\n",
                "    svc.fit(xtrain, ytrain)\n",
                "    return svc"
            ],
            "outputs": [],
            "metadata": {}
        },
        {
            "cell_type": "code",
            "execution_count": 5,
            "source": [
                "svcClassifier=svc_Creator(X_train,y_train)"
            ],
            "outputs": [],
            "metadata": {}
        },
        {
            "cell_type": "markdown",
            "source": [
                "## Pruebas de exactitud para el modelo"
            ],
            "metadata": {}
        },
        {
            "cell_type": "markdown",
            "source": [
                "Ya creado y entrenado el modelo, solo haria falta probar su exactitud, para lo cual, se usaran las variables \"..._test\" creadas anteriormente, los cuales guardan un porcentaje de los datos de la tabla \"datos_procesados\""
            ],
            "metadata": {}
        },
        {
            "cell_type": "code",
            "execution_count": 6,
            "source": [
                "# Evaluando el \"Score\" del modelo, un parametro que calcula el promedio de exactitud\n",
                "#===================================================================================\n",
                "\n",
                "score=svcClassifier.score(X_train,y_train)\n",
                "print(\"El score del modelo es de : \", score)"
            ],
            "outputs": [
                {
                    "output_type": "stream",
                    "name": "stdout",
                    "text": [
                        "El score del modelo es de :  0.8373797526339899\n"
                    ]
                }
            ],
            "metadata": {}
        },
        {
            "cell_type": "code",
            "execution_count": 7,
            "source": [
                "#   Haciendo predicciones usando los datos de prueba \"..._test\"\n",
                "# ===========================================================\n",
                "y_pred=svcClassifier.predict(X_test)\n",
                "\n",
                "#   Evaluando la prediccion\n",
                "# ==============================\n",
                "\n",
                "# print(confusion_matrix(y_test,y_pred))\n",
                "classification_report(y_test,y_pred)\n",
                "print(classification_report(y_test,y_pred))\n",
                "\n"
            ],
            "outputs": [
                {
                    "output_type": "stream",
                    "name": "stdout",
                    "text": [
                        "              precision    recall  f1-score   support\n",
                        "\n",
                        "         0.0       0.68      1.00      0.81       123\n",
                        "         1.0       0.87      0.85      0.86       169\n",
                        "         2.0       0.88      0.87      0.88       185\n",
                        "         3.0       1.00      0.23      0.38        69\n",
                        "\n",
                        "    accuracy                           0.81       546\n",
                        "   macro avg       0.86      0.74      0.73       546\n",
                        "weighted avg       0.85      0.81      0.79       546\n",
                        "\n"
                    ]
                }
            ],
            "metadata": {}
        },
        {
            "cell_type": "markdown",
            "source": [
                "Como un agregado, se puede iterar varias veces la creacion y entrenamiento del modelo con el fin de evaluar la exactitud cuando se crea mas de un modelo con los mismos datos."
            ],
            "metadata": {}
        },
        {
            "cell_type": "code",
            "execution_count": 8,
            "source": [
                "def prediccion(independiente, dependiente,cantPruebas=10, testSize=0.2):\n",
                "    scores=np.array([])\n",
                "    accuracy=np.array([])\n",
                "\n",
                "    \n",
                "\n",
                "    # Repitiendo la prueba tantas veces como se indique en \"cantPruebas\"\n",
                "    for i in range(cantPruebas):\n",
                "        # dividiendo los datos\n",
                "        x_train, x_test, y_train, y_test=train_test_split(independiente,dependiente,test_size=testSize)\n",
                "\n",
                "        #Creando y entrenando el modelo\n",
                "        svc=svc_Creator(x_train,y_train)\n",
                "        \n",
                "        y_pred=svcClassifier.predict(x_test)\n",
                "\n",
                "        #obteniendo el score(usando la funcion del objeto SVC) y el accuracy(usando el classification_report)\n",
                "        # Agregandolos a arrays\n",
                "        accuracy=np.append(accuracy,classification_report(y_test,y_pred,output_dict=True)[\"accuracy\"])\n",
                "        scores=np.append(scores,svc.score(x_train,y_train))\n",
                "\n",
                "    return scores, accuracy\n",
                "    "
            ],
            "outputs": [],
            "metadata": {}
        },
        {
            "cell_type": "code",
            "execution_count": 9,
            "source": [
                "cantidad_pruebas=10\n",
                "\n",
                "scores,accuracy=prediccion(x,y,cantPruebas=cantidad_pruebas)\n",
                "scores=scores*100\n",
                "accuracy=accuracy*100\n",
                "\n",
                "x_data=np.arange(10)\n",
                "\n",
                "plt.plot(x_data, scores)\n",
                "plt.plot(x_data, accuracy)\n",
                "\n",
                "plt.ylabel(\"Porcentaje de exactitud\")\n",
                "plt.ylim(0,100)\n",
                "\n",
                "plt.legend([\"Scores\", \"Accuracy\"])\n",
                "\n",
                "plt.show()"
            ],
            "outputs": [
                {
                    "output_type": "display_data",
                    "data": {
                        "text/plain": [
                            "<Figure size 432x288 with 1 Axes>"
                        ],
                        "image/png": "[encoded data removed]"
                    },
                    "metadata": {
                        "needs_background": "light"
                    }
                }
            ],
            "metadata": {}
        },
        {
            "cell_type": "markdown",
            "source": [
                "## Conclusión"
            ],
            "metadata": {}
        },
        {
            "cell_type": "markdown",
            "source": [
                "La implementación del modelo SVC tiene un porcentaje de exactitud de mas del 80% en la mayoria(por no decir todos) los casos, por lo que es apto para su uso en el proyecto de Sistema de predicción y prevención de accidentes de tránsito con enfoque en motociclistas"
            ],
            "metadata": {}
        }
    ],
    "metadata": {
        "orig_nbformat": 4,
        "language_info": {
            "name": "python",
            "version": "3.8.10",
            "mimetype": "text/x-python",
            "codemirror_mode": {
                "name": "ipython",
                "version": 3
            },
            "pygments_lexer": "ipython3",
            "nbconvert_exporter": "python",
            "file_extension": ".py"
        },
        "kernelspec": {
            "name": "python3",
            "display_name": "Python 3.8.10 64-bit"
        },
        "interpreter": {
            "hash": "916dbcbb3f70747c44a77c7bcd40155683ae19c65e1c03b4aa3499c5328201f1"
        }
    },
    "nbformat": 4,
    "nbformat_minor": 2
}